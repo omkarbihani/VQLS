{
 "cells": [
  {
   "cell_type": "code",
   "execution_count": 1,
   "id": "0f7c00ae",
   "metadata": {},
   "outputs": [],
   "source": [
    "from qiskit.quantum_info import Statevector, SparsePauliOp, Operator\n",
    "from qiskit.circuit.library import StatePreparation, HGate\n",
    "from qiskit.visualization import plot_histogram\n",
    "\n",
    "import numpy as np\n",
    "import matplotlib.pyplot as plt\n",
    "\n",
    "import qc_utils as qcu\n",
    "from ansatz import HE_ansatz,fixed_ansatz\n",
    "import vqls\n",
    "\n",
    "import logging"
   ]
  },
  {
   "cell_type": "code",
   "execution_count": 2,
   "id": "768a474d",
   "metadata": {},
   "outputs": [],
   "source": [
    "logging.getLogger(\"vqls_logger\").setLevel(logging.INFO)"
   ]
  },
  {
   "cell_type": "code",
   "execution_count": 3,
   "id": "365c939f",
   "metadata": {},
   "outputs": [],
   "source": [
    "# 2 qubits example \n",
    "\n",
    "A = SparsePauliOp('II') + 0.2 * SparsePauliOp('ZI') + 0.2 * SparsePauliOp('XI')\n",
    "# A = 0.55*SparsePauliOp('II') + 0.45*SparsePauliOp('IZ')\n",
    "A = A.to_matrix()\n",
    "\n",
    "# A = np.random.uniform(-1,1,[4,4])\n",
    "# A = (A + A.T)/2\n",
    "\n",
    "H_operator = Operator(HGate())\n",
    "b = np.ones([4,]) / np.sqrt(4)\n",
    "# B = (H_operator.tensor(H_operator)).to_matrix()\n",
    "\n",
    "# b = np.random.uniform(-1,1,[4,])\n",
    "# b = b/np.sqrt(sum(b**2))\n",
    "# prep = StatePreparation(b.squeeze())\n",
    "\n",
    "\n",
    "# A_LCU = qcu.get_LCU(A)\n",
    "# B_LCU = qcu.get_LCU(B)\n",
    "\n",
    "n = 2\n",
    "d = 2\n",
    "params0 = np.zeros(n*d)\n",
    "# params0 = np.random.uniform(-1,1,[n*d,])"
   ]
  },
  {
   "cell_type": "code",
   "execution_count": 4,
   "id": "72cc6394",
   "metadata": {},
   "outputs": [],
   "source": [
    "# 3 qubits example \n",
    " \n",
    "# A = SparsePauliOp('III') + 0.2 * SparsePauliOp('XZI') + 0.2 * SparsePauliOp('XII')\n",
    "# A = 0.55*SparsePauliOp('III') + 0.45*SparsePauliOp('IIZ')\n",
    "# A = A.to_matrix()\n",
    "\n",
    "# H_operator = Operator(HGate())\n",
    "# b = np.ones([8,]) / np.sqrt(8)\n",
    "# B = (H_operator.tensor(H_operator).tensor(H_operator)).to_matrix()\n",
    "\n",
    "# b = np.random.uniform(-1,1,[8,])\n",
    "# b = b/np.sqrt(sum(b**2))\n",
    "\n",
    "# n = 3\n",
    "# d = 2\n",
    "# params0 = np.zeros(n*d)\n",
    "# params0 = np.random.uniform(-1,1,[n*d,])"
   ]
  },
  {
   "cell_type": "code",
   "execution_count": 10,
   "id": "71dc6c20",
   "metadata": {},
   "outputs": [],
   "source": [
    "# Define objects\n",
    "\n",
    "vqls_est_local = vqls.EstimatorVQLSLocal(\n",
    "    A=A,\n",
    "    b=b,\n",
    "    d=d,\n",
    "    params0=params0,\n",
    "    ansatz_function=fixed_ansatz\n",
    ")\n",
    "\n",
    "vqls_est_global = vqls.EstimatorVQLSGlobal(\n",
    "    A=A,\n",
    "    b=b,\n",
    "    d=d,\n",
    "    params0=params0,\n",
    "    ansatz_function=fixed_ansatz\n",
    ")\n",
    "\n",
    "\n",
    "vqls_sam_local = vqls.SamplerVQLSLocal(\n",
    "    A=A,\n",
    "    b=b,\n",
    "    d=d,\n",
    "    params0=params0,\n",
    "    ansatz_function=fixed_ansatz,\n",
    "    num_shots=2000\n",
    ")\n",
    "\n",
    "vqls_sam_global = vqls.SamplerVQLSGlobal(\n",
    "    A=A,\n",
    "    b=b,\n",
    "    d=d,\n",
    "    params0=params0,\n",
    "    ansatz_function=fixed_ansatz,\n",
    "    num_shots=2000\n",
    ")"
   ]
  },
  {
   "cell_type": "code",
   "execution_count": 11,
   "id": "7cac583c",
   "metadata": {},
   "outputs": [
    {
     "name": "stderr",
     "output_type": "stream",
     "text": [
      "vqls.py, 339, EstimatorVQLSLocal.calculate_cost(): 0.41891891891891897\n",
      "vqls.py, 339, EstimatorVQLSLocal.calculate_cost(): 0.2085511727169448\n",
      "vqls.py, 339, EstimatorVQLSLocal.calculate_cost(): 0.09292008395937279\n",
      "vqls.py, 339, EstimatorVQLSLocal.calculate_cost(): 0.12490351414128487\n",
      "vqls.py, 339, EstimatorVQLSLocal.calculate_cost(): 0.11303412705666771\n",
      "vqls.py, 339, EstimatorVQLSLocal.calculate_cost(): 0.02841907509970204\n",
      "vqls.py, 339, EstimatorVQLSLocal.calculate_cost(): 0.08561610100860245\n",
      "vqls.py, 339, EstimatorVQLSLocal.calculate_cost(): 0.07978127275839658\n",
      "vqls.py, 339, EstimatorVQLSLocal.calculate_cost(): 0.03114391776599179\n",
      "vqls.py, 339, EstimatorVQLSLocal.calculate_cost(): 0.016220995982193065\n"
     ]
    }
   ],
   "source": [
    "vqls_est_local.run(method='COBYLA', options={\"maxiter\": 10})"
   ]
  },
  {
   "cell_type": "code",
   "execution_count": 12,
   "id": "ca611f8a",
   "metadata": {},
   "outputs": [
    {
     "name": "stderr",
     "output_type": "stream",
     "text": [
      "vqls.py, 614, SamplerVQLSLocal.calculate_cost(): 0.42914662487164246\n",
      "vqls.py, 614, SamplerVQLSLocal.calculate_cost(): 0.20292454881495986\n",
      "vqls.py, 614, SamplerVQLSLocal.calculate_cost(): 0.09822912592882282\n",
      "vqls.py, 614, SamplerVQLSLocal.calculate_cost(): 0.1242239830093122\n",
      "vqls.py, 614, SamplerVQLSLocal.calculate_cost(): 0.11550394602084452\n",
      "vqls.py, 614, SamplerVQLSLocal.calculate_cost(): 0.03474529346622379\n",
      "vqls.py, 614, SamplerVQLSLocal.calculate_cost(): 0.09211802748585302\n",
      "vqls.py, 614, SamplerVQLSLocal.calculate_cost(): 0.08816800647151024\n",
      "vqls.py, 614, SamplerVQLSLocal.calculate_cost(): 0.03448093500449512\n",
      "vqls.py, 614, SamplerVQLSLocal.calculate_cost(): 0.023287242517355144\n"
     ]
    }
   ],
   "source": [
    "vqls_sam_local.run(method='COBYLA', options={\"maxiter\": 10})"
   ]
  },
  {
   "cell_type": "code",
   "execution_count": 13,
   "id": "93b18872",
   "metadata": {},
   "outputs": [
    {
     "name": "stdout",
     "output_type": "stream",
     "text": [
      "     ┌────────────┐   ┌───────────────┐   \n",
      "q_0: ┤ Ry(1.8517) ├─■─┤ Ry(-0.068448) ├─■─\n",
      "     ├────────────┤ │ └┬──────────────┤ │ \n",
      "q_1: ┤ Ry(1.7155) ├─■──┤ Ry(-0.11274) ├─■─\n",
      "     └────────────┘    └──────────────┘   \n"
     ]
    }
   ],
   "source": [
    "qc_est_local = vqls_est_local.get_optimal_circuit()\n",
    "print(qc_est_local)\n"
   ]
  },
  {
   "cell_type": "code",
   "execution_count": 14,
   "id": "f06566a4",
   "metadata": {},
   "outputs": [],
   "source": [
    "sv_est_local = Statevector(qc_est_local)\n",
    "sv_sam_local = Statevector(vqls_sam_local.get_optimal_circuit())\n",
    "\n",
    "x_exact = np.linalg.inv(A) @ b\n",
    "sv_x_exact = Statevector(x_exact)"
   ]
  },
  {
   "cell_type": "code",
   "execution_count": 17,
   "id": "4e63a0c8",
   "metadata": {},
   "outputs": [
    {
     "name": "stdout",
     "output_type": "stream",
     "text": [
      "Fidelity Sam. VQLS Local cost = (0.8574756687588678+0j)\n",
      "Fidelity Est. VQLS Local cost = (0.8706551841336143+0j)\n"
     ]
    }
   ],
   "source": [
    "print(f\"Fidelity Sam. VQLS Local cost = {sv_x_exact.inner(sv_sam_local)}\")\n",
    "print(f\"Fidelity Est. VQLS Local cost = {sv_x_exact.inner(sv_est_local)}\")\n"
   ]
  },
  {
   "cell_type": "code",
   "execution_count": 16,
   "id": "484972ed",
   "metadata": {},
   "outputs": [
    {
     "data": {
      "image/png": "[encoded data removed]",
      "text/plain": [
       "<Figure size 640x480 with 1 Axes>"
      ]
     },
     "execution_count": 16,
     "metadata": {},
     "output_type": "execute_result"
    }
   ],
   "source": [
    "plot_histogram([sv_x_exact.probabilities_dict(), sv_est_local.probabilities_dict(),sv_sam_local.probabilities_dict()], legend=['Exact', 'VQLS (Local-Est)', 'VQLS (Local-Sam)'])"
   ]
  },
  {
   "cell_type": "code",
   "execution_count": null,
   "id": "32e16bc4",
   "metadata": {},
   "outputs": [],
   "source": []
  }
 ],
 "metadata": {
  "kernelspec": {
   "display_name": "qiskit_env",
   "language": "python",
   "name": "python3"
  },
  "language_info": {
   "codemirror_mode": {
    "name": "ipython",
    "version": 3
   },
   "file_extension": ".py",
   "mimetype": "text/x-python",
   "name": "python",
   "nbconvert_exporter": "python",
   "pygments_lexer": "ipython3",
   "version": "3.13.7"
  }
 },
 "nbformat": 4,
 "nbformat_minor": 5
}
